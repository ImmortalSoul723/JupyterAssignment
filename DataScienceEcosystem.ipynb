{
  "metadata": {
    "kernelspec": {
      "name": "xpython",
      "display_name": "Python 3.13 (XPython)",
      "language": "python"
    },
    "language_info": {
      "file_extension": ".py",
      "mimetype": "text/x-python",
      "name": "python",
      "version": "3.13.1"
    }
  },
  "nbformat_minor": 5,
  "nbformat": 4,
  "cells": [
    {
      "id": "82a2391b-a08e-42d3-88b6-139838104357",
      "cell_type": "markdown",
      "source": "# Data Science Tools and Ecosystem",
      "metadata": {}
    },
    {
      "id": "c9173f4f-9e90-4160-9ff5-6add6dd56038",
      "cell_type": "markdown",
      "source": "In this notebook, Data Science Tools and Ecosystem are summarized.",
      "metadata": {}
    },
    {
      "id": "b96ce187-f0eb-46d4-8dc4-b61859e7cc90",
      "cell_type": "markdown",
      "source": "**Objectives:**\n\n- List popular languages for Data Science  \n- List commonly used libraries in Data Science  \n- Create tables to summarize tools  \n- Perform arithmetic operations in Python  \n- Convert time units using Python  ",
      "metadata": {}
    },
    {
      "id": "bc23603f-ec4c-419c-b775-5644da833fc2",
      "cell_type": "markdown",
      "source": "Some of the popular languages that Data Scientists use are:\n\n1. Python  \n2. R  \n3. SQL  ",
      "metadata": {}
    },
    {
      "id": "ccb5f5a7-582d-489a-a932-04b1a2a61b0c",
      "cell_type": "markdown",
      "source": "Some of the commonly used libraries used by Data Scientists include:\n\n1. Pandas  \n2. NumPy  \n3. Matplotlib  ",
      "metadata": {}
    },
    {
      "id": "ae3c9656-50b2-404e-bc7e-1c512db817b6",
      "cell_type": "markdown",
      "source": "| Data Science Tools |\n|--------------------|\n| Jupyter Notebook   |\n| RStudio            |\n| Apache Zeppelin    |",
      "metadata": {}
    },
    {
      "id": "7912f8ca-35d6-4920-aad3-e48487c4a78a",
      "cell_type": "markdown",
      "source": "### Below are a few examples of evaluating arithmetic expressions in Python.",
      "metadata": {}
    },
    {
      "id": "93864d84-63db-4db1-921b-7b74b6dc898b",
      "cell_type": "code",
      "source": "# This is a simple arithmetic expression to multiply then add integers\n(3 * 4) + 5",
      "metadata": {
        "trusted": true
      },
      "outputs": [
        {
          "execution_count": 9,
          "output_type": "execute_result",
          "data": {
            "text/plain": "17"
          },
          "metadata": {}
        }
      ],
      "execution_count": 9
    },
    {
      "id": "c08c9c5f-33de-47ad-b7b7-d70ae5858496",
      "cell_type": "code",
      "source": "# This will convert 200 minutes to hours by dividing by 60\n200 / 60",
      "metadata": {
        "trusted": true
      },
      "outputs": [
        {
          "execution_count": 10,
          "output_type": "execute_result",
          "data": {
            "text/plain": "3.3333333333333335"
          },
          "metadata": {}
        }
      ],
      "execution_count": 10
    },
    {
      "id": "c69f931c-2244-4d7c-a89f-977020493da2",
      "cell_type": "markdown",
      "source": "## Author\n\nSwaroop Bevara",
      "metadata": {}
    },
    {
      "id": "93413c48-c479-4d7a-889b-defd4b211998",
      "cell_type": "code",
      "source": "",
      "metadata": {
        "trusted": true
      },
      "outputs": [],
      "execution_count": null
    }
  ]
}